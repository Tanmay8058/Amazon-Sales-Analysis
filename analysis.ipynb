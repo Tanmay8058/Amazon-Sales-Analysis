{
 "cells": [
  {
   "cell_type": "markdown",
   "id": "fb6da460",
   "metadata": {},
   "source": [
    "### Steps we took :\n",
    "##### 1. Import modules\n",
    "##### 2. import files and combine them\n",
    "##### 3. Data cleaning : converting all the data to required data type as some of them are in string format.\n",
    "##### 4. Dealing with null values.\n",
    "##### 5. Dealing with special values.\n",
    "##### 6. Extracting month from the timestamp column to know which month have more sales (group by months).\n",
    "##### 7. Extracting the city by splitting the address column ',' making group by city to know sales in different city.\n",
    "##### 8. Extracting the hours from timestamp to know at what time we customers are really active and that particular time we should show ads to users.\n",
    "##### 9. Some of the orders have same 'order_id'. So we extracted the product and combined them to know which products are sold in a combined form the most.\n",
    "##### 10. What products sold the most. \n",
    "##### 11. Comparing the products with price people are afraid to buy expensive products."
   ]
  },
  {
   "cell_type": "markdown",
   "id": "10b2bdbe",
   "metadata": {},
   "source": [
    "### Importing required modules"
   ]
  },
  {
   "cell_type": "code",
   "execution_count": null,
   "id": "0073daff",
   "metadata": {},
   "outputs": [],
   "source": [
    "import pandas as pd\n",
    "import numpy as np\n",
    "import matplotlib.pyplot as plt\n",
    "import seaborn as sns\n",
    "import os"
   ]
  },
  {
   "cell_type": "markdown",
   "id": "620ca65b",
   "metadata": {},
   "source": [
    "### Importing all csv files by just one command using 'os'"
   ]
  },
  {
   "cell_type": "code",
   "execution_count": null,
   "id": "427a9c5a",
   "metadata": {},
   "outputs": [],
   "source": [
    "files=[file for file in os.listdir()]\n",
    "print(files)"
   ]
  },
  {
   "cell_type": "markdown",
   "id": "f0d13a8e",
   "metadata": {},
   "source": [
    "### Creating a empty dataframe then we will concat all the csv files into it"
   ]
  },
  {
   "cell_type": "code",
   "execution_count": null,
   "id": "d0fdb817",
   "metadata": {},
   "outputs": [],
   "source": [
    "# creating an empty dataframe 'df'\n",
    "all_data=pd.DataFrame()"
   ]
  },
  {
   "cell_type": "markdown",
   "id": "d8e59728",
   "metadata": {},
   "source": [
    "### creating all_data file with all 12 months data"
   ]
  },
  {
   "cell_type": "code",
   "execution_count": null,
   "id": "cba7512e",
   "metadata": {},
   "outputs": [],
   "source": [
    "for file in files[3:len(files)-1]:\n",
    "    data=pd.read_csv(file)\n",
    "    all_data=pd.concat([all_data,data], ignore_index= True)"
   ]
  },
  {
   "cell_type": "code",
   "execution_count": null,
   "id": "9c83f2ef",
   "metadata": {},
   "outputs": [],
   "source": [
    "all_data.shape"
   ]
  },
  {
   "cell_type": "markdown",
   "id": "792f752d",
   "metadata": {},
   "source": [
    "# Task 01: cleaning data"
   ]
  },
  {
   "cell_type": "code",
   "execution_count": null,
   "id": "93d510d4",
   "metadata": {
    "scrolled": true
   },
   "outputs": [],
   "source": [
    "all_data.head()"
   ]
  },
  {
   "cell_type": "code",
   "execution_count": null,
   "id": "3720fe85",
   "metadata": {},
   "outputs": [],
   "source": [
    "all_data.info()"
   ]
  },
  {
   "cell_type": "markdown",
   "id": "b8f84418",
   "metadata": {},
   "source": [
    "### removing NaN values and special values which are not useful for our data"
   ]
  },
  {
   "cell_type": "code",
   "execution_count": null,
   "id": "2e45b107",
   "metadata": {
    "scrolled": true
   },
   "outputs": [],
   "source": [
    "all_data.isnull().sum()"
   ]
  },
  {
   "cell_type": "code",
   "execution_count": null,
   "id": "62caca57",
   "metadata": {},
   "outputs": [],
   "source": [
    "all_data[pd.isnull(all_data[\"Order Date\"])]"
   ]
  },
  {
   "cell_type": "code",
   "execution_count": null,
   "id": "98516d0f",
   "metadata": {},
   "outputs": [],
   "source": [
    "all_data=all_data.dropna()"
   ]
  },
  {
   "cell_type": "code",
   "execution_count": null,
   "id": "15171bbb",
   "metadata": {},
   "outputs": [],
   "source": [
    "all_data.isnull().sum()"
   ]
  },
  {
   "cell_type": "markdown",
   "id": "11961e9e",
   "metadata": {},
   "source": [
    "### So we have removed all NaN values from the dataframe"
   ]
  },
  {
   "cell_type": "markdown",
   "id": "a91a8392",
   "metadata": {},
   "source": [
    "# Task 02: converting Order Dates to timestamp!"
   ]
  },
  {
   "cell_type": "code",
   "execution_count": 15,
   "id": "6a68687c",
   "metadata": {
    "scrolled": true
   },
   "outputs": [
    {
     "ename": "ParserError",
     "evalue": "Unknown string format: Order Date",
     "output_type": "error",
     "traceback": [
      "\u001b[1;31m---------------------------------------------------------------------------\u001b[0m",
      "\u001b[1;31mTypeError\u001b[0m                                 Traceback (most recent call last)",
      "\u001b[1;32m~\\anaconda3\\lib\\site-packages\\pandas\\core\\arrays\\datetimes.py\u001b[0m in \u001b[0;36mobjects_to_datetime64ns\u001b[1;34m(data, dayfirst, yearfirst, utc, errors, require_iso8601, allow_object, allow_mixed)\u001b[0m\n\u001b[0;32m   2186\u001b[0m         \u001b[1;32mtry\u001b[0m\u001b[1;33m:\u001b[0m\u001b[1;33m\u001b[0m\u001b[1;33m\u001b[0m\u001b[0m\n\u001b[1;32m-> 2187\u001b[1;33m             \u001b[0mvalues\u001b[0m\u001b[1;33m,\u001b[0m \u001b[0mtz_parsed\u001b[0m \u001b[1;33m=\u001b[0m \u001b[0mconversion\u001b[0m\u001b[1;33m.\u001b[0m\u001b[0mdatetime_to_datetime64\u001b[0m\u001b[1;33m(\u001b[0m\u001b[0mdata\u001b[0m\u001b[1;33m.\u001b[0m\u001b[0mravel\u001b[0m\u001b[1;33m(\u001b[0m\u001b[1;34m\"K\"\u001b[0m\u001b[1;33m)\u001b[0m\u001b[1;33m)\u001b[0m\u001b[1;33m\u001b[0m\u001b[1;33m\u001b[0m\u001b[0m\n\u001b[0m\u001b[0;32m   2188\u001b[0m             \u001b[1;31m# If tzaware, these values represent unix timestamps, so we\u001b[0m\u001b[1;33m\u001b[0m\u001b[1;33m\u001b[0m\u001b[0m\n",
      "\u001b[1;32m~\\anaconda3\\lib\\site-packages\\pandas\\_libs\\tslibs\\conversion.pyx\u001b[0m in \u001b[0;36mpandas._libs.tslibs.conversion.datetime_to_datetime64\u001b[1;34m()\u001b[0m\n",
      "\u001b[1;31mTypeError\u001b[0m: Unrecognized value type: <class 'str'>",
      "\nDuring handling of the above exception, another exception occurred:\n",
      "\u001b[1;31mParserError\u001b[0m                               Traceback (most recent call last)",
      "\u001b[1;32m~\\AppData\\Local\\Temp/ipykernel_3300/2539822065.py\u001b[0m in \u001b[0;36m<module>\u001b[1;34m\u001b[0m\n\u001b[1;32m----> 1\u001b[1;33m \u001b[0mall_data\u001b[0m\u001b[1;33m[\u001b[0m\u001b[1;34m'Order Date'\u001b[0m\u001b[1;33m]\u001b[0m\u001b[1;33m=\u001b[0m\u001b[0mpd\u001b[0m\u001b[1;33m.\u001b[0m\u001b[0mto_datetime\u001b[0m\u001b[1;33m(\u001b[0m\u001b[0mall_data\u001b[0m\u001b[1;33m[\u001b[0m\u001b[1;34m'Order Date'\u001b[0m\u001b[1;33m]\u001b[0m\u001b[1;33m)\u001b[0m\u001b[1;33m\u001b[0m\u001b[1;33m\u001b[0m\u001b[0m\n\u001b[0m",
      "\u001b[1;32m~\\anaconda3\\lib\\site-packages\\pandas\\core\\tools\\datetimes.py\u001b[0m in \u001b[0;36mto_datetime\u001b[1;34m(arg, errors, dayfirst, yearfirst, utc, format, exact, unit, infer_datetime_format, origin, cache)\u001b[0m\n\u001b[0;32m    885\u001b[0m             \u001b[0mresult\u001b[0m \u001b[1;33m=\u001b[0m \u001b[0marg\u001b[0m\u001b[1;33m.\u001b[0m\u001b[0mmap\u001b[0m\u001b[1;33m(\u001b[0m\u001b[0mcache_array\u001b[0m\u001b[1;33m)\u001b[0m\u001b[1;33m\u001b[0m\u001b[1;33m\u001b[0m\u001b[0m\n\u001b[0;32m    886\u001b[0m         \u001b[1;32melse\u001b[0m\u001b[1;33m:\u001b[0m\u001b[1;33m\u001b[0m\u001b[1;33m\u001b[0m\u001b[0m\n\u001b[1;32m--> 887\u001b[1;33m             \u001b[0mvalues\u001b[0m \u001b[1;33m=\u001b[0m \u001b[0mconvert_listlike\u001b[0m\u001b[1;33m(\u001b[0m\u001b[0marg\u001b[0m\u001b[1;33m.\u001b[0m\u001b[0m_values\u001b[0m\u001b[1;33m,\u001b[0m \u001b[0mformat\u001b[0m\u001b[1;33m)\u001b[0m\u001b[1;33m\u001b[0m\u001b[1;33m\u001b[0m\u001b[0m\n\u001b[0m\u001b[0;32m    888\u001b[0m             \u001b[0mresult\u001b[0m \u001b[1;33m=\u001b[0m \u001b[0marg\u001b[0m\u001b[1;33m.\u001b[0m\u001b[0m_constructor\u001b[0m\u001b[1;33m(\u001b[0m\u001b[0mvalues\u001b[0m\u001b[1;33m,\u001b[0m \u001b[0mindex\u001b[0m\u001b[1;33m=\u001b[0m\u001b[0marg\u001b[0m\u001b[1;33m.\u001b[0m\u001b[0mindex\u001b[0m\u001b[1;33m,\u001b[0m \u001b[0mname\u001b[0m\u001b[1;33m=\u001b[0m\u001b[0marg\u001b[0m\u001b[1;33m.\u001b[0m\u001b[0mname\u001b[0m\u001b[1;33m)\u001b[0m\u001b[1;33m\u001b[0m\u001b[1;33m\u001b[0m\u001b[0m\n\u001b[0;32m    889\u001b[0m     \u001b[1;32melif\u001b[0m \u001b[0misinstance\u001b[0m\u001b[1;33m(\u001b[0m\u001b[0marg\u001b[0m\u001b[1;33m,\u001b[0m \u001b[1;33m(\u001b[0m\u001b[0mABCDataFrame\u001b[0m\u001b[1;33m,\u001b[0m \u001b[0mabc\u001b[0m\u001b[1;33m.\u001b[0m\u001b[0mMutableMapping\u001b[0m\u001b[1;33m)\u001b[0m\u001b[1;33m)\u001b[0m\u001b[1;33m:\u001b[0m\u001b[1;33m\u001b[0m\u001b[1;33m\u001b[0m\u001b[0m\n",
      "\u001b[1;32m~\\anaconda3\\lib\\site-packages\\pandas\\core\\tools\\datetimes.py\u001b[0m in \u001b[0;36m_convert_listlike_datetimes\u001b[1;34m(arg, format, name, tz, unit, errors, infer_datetime_format, dayfirst, yearfirst, exact)\u001b[0m\n\u001b[0;32m    399\u001b[0m     \u001b[1;32massert\u001b[0m \u001b[0mformat\u001b[0m \u001b[1;32mis\u001b[0m \u001b[1;32mNone\u001b[0m \u001b[1;32mor\u001b[0m \u001b[0minfer_datetime_format\u001b[0m\u001b[1;33m\u001b[0m\u001b[1;33m\u001b[0m\u001b[0m\n\u001b[0;32m    400\u001b[0m     \u001b[0mutc\u001b[0m \u001b[1;33m=\u001b[0m \u001b[0mtz\u001b[0m \u001b[1;33m==\u001b[0m \u001b[1;34m\"utc\"\u001b[0m\u001b[1;33m\u001b[0m\u001b[1;33m\u001b[0m\u001b[0m\n\u001b[1;32m--> 401\u001b[1;33m     result, tz_parsed = objects_to_datetime64ns(\n\u001b[0m\u001b[0;32m    402\u001b[0m         \u001b[0marg\u001b[0m\u001b[1;33m,\u001b[0m\u001b[1;33m\u001b[0m\u001b[1;33m\u001b[0m\u001b[0m\n\u001b[0;32m    403\u001b[0m         \u001b[0mdayfirst\u001b[0m\u001b[1;33m=\u001b[0m\u001b[0mdayfirst\u001b[0m\u001b[1;33m,\u001b[0m\u001b[1;33m\u001b[0m\u001b[1;33m\u001b[0m\u001b[0m\n",
      "\u001b[1;32m~\\anaconda3\\lib\\site-packages\\pandas\\core\\arrays\\datetimes.py\u001b[0m in \u001b[0;36mobjects_to_datetime64ns\u001b[1;34m(data, dayfirst, yearfirst, utc, errors, require_iso8601, allow_object, allow_mixed)\u001b[0m\n\u001b[0;32m   2191\u001b[0m             \u001b[1;32mreturn\u001b[0m \u001b[0mvalues\u001b[0m\u001b[1;33m.\u001b[0m\u001b[0mview\u001b[0m\u001b[1;33m(\u001b[0m\u001b[1;34m\"i8\"\u001b[0m\u001b[1;33m)\u001b[0m\u001b[1;33m,\u001b[0m \u001b[0mtz_parsed\u001b[0m\u001b[1;33m\u001b[0m\u001b[1;33m\u001b[0m\u001b[0m\n\u001b[0;32m   2192\u001b[0m         \u001b[1;32mexcept\u001b[0m \u001b[1;33m(\u001b[0m\u001b[0mValueError\u001b[0m\u001b[1;33m,\u001b[0m \u001b[0mTypeError\u001b[0m\u001b[1;33m)\u001b[0m\u001b[1;33m:\u001b[0m\u001b[1;33m\u001b[0m\u001b[1;33m\u001b[0m\u001b[0m\n\u001b[1;32m-> 2193\u001b[1;33m             \u001b[1;32mraise\u001b[0m \u001b[0merr\u001b[0m\u001b[1;33m\u001b[0m\u001b[1;33m\u001b[0m\u001b[0m\n\u001b[0m\u001b[0;32m   2194\u001b[0m \u001b[1;33m\u001b[0m\u001b[0m\n\u001b[0;32m   2195\u001b[0m     \u001b[1;32mif\u001b[0m \u001b[0mtz_parsed\u001b[0m \u001b[1;32mis\u001b[0m \u001b[1;32mnot\u001b[0m \u001b[1;32mNone\u001b[0m\u001b[1;33m:\u001b[0m\u001b[1;33m\u001b[0m\u001b[1;33m\u001b[0m\u001b[0m\n",
      "\u001b[1;32m~\\anaconda3\\lib\\site-packages\\pandas\\core\\arrays\\datetimes.py\u001b[0m in \u001b[0;36mobjects_to_datetime64ns\u001b[1;34m(data, dayfirst, yearfirst, utc, errors, require_iso8601, allow_object, allow_mixed)\u001b[0m\n\u001b[0;32m   2173\u001b[0m     \u001b[0morder\u001b[0m\u001b[1;33m:\u001b[0m \u001b[0mLiteral\u001b[0m\u001b[1;33m[\u001b[0m\u001b[1;34m\"F\"\u001b[0m\u001b[1;33m,\u001b[0m \u001b[1;34m\"C\"\u001b[0m\u001b[1;33m]\u001b[0m \u001b[1;33m=\u001b[0m \u001b[1;34m\"F\"\u001b[0m \u001b[1;32mif\u001b[0m \u001b[0mflags\u001b[0m\u001b[1;33m.\u001b[0m\u001b[0mf_contiguous\u001b[0m \u001b[1;32melse\u001b[0m \u001b[1;34m\"C\"\u001b[0m\u001b[1;33m\u001b[0m\u001b[1;33m\u001b[0m\u001b[0m\n\u001b[0;32m   2174\u001b[0m     \u001b[1;32mtry\u001b[0m\u001b[1;33m:\u001b[0m\u001b[1;33m\u001b[0m\u001b[1;33m\u001b[0m\u001b[0m\n\u001b[1;32m-> 2175\u001b[1;33m         result, tz_parsed = tslib.array_to_datetime(\n\u001b[0m\u001b[0;32m   2176\u001b[0m             \u001b[0mdata\u001b[0m\u001b[1;33m.\u001b[0m\u001b[0mravel\u001b[0m\u001b[1;33m(\u001b[0m\u001b[1;34m\"K\"\u001b[0m\u001b[1;33m)\u001b[0m\u001b[1;33m,\u001b[0m\u001b[1;33m\u001b[0m\u001b[1;33m\u001b[0m\u001b[0m\n\u001b[0;32m   2177\u001b[0m             \u001b[0merrors\u001b[0m\u001b[1;33m=\u001b[0m\u001b[0merrors\u001b[0m\u001b[1;33m,\u001b[0m\u001b[1;33m\u001b[0m\u001b[1;33m\u001b[0m\u001b[0m\n",
      "\u001b[1;32m~\\anaconda3\\lib\\site-packages\\pandas\\_libs\\tslib.pyx\u001b[0m in \u001b[0;36mpandas._libs.tslib.array_to_datetime\u001b[1;34m()\u001b[0m\n",
      "\u001b[1;32m~\\anaconda3\\lib\\site-packages\\pandas\\_libs\\tslib.pyx\u001b[0m in \u001b[0;36mpandas._libs.tslib.array_to_datetime\u001b[1;34m()\u001b[0m\n",
      "\u001b[1;32m~\\anaconda3\\lib\\site-packages\\pandas\\_libs\\tslib.pyx\u001b[0m in \u001b[0;36mpandas._libs.tslib._array_to_datetime_object\u001b[1;34m()\u001b[0m\n",
      "\u001b[1;32m~\\anaconda3\\lib\\site-packages\\pandas\\_libs\\tslib.pyx\u001b[0m in \u001b[0;36mpandas._libs.tslib._array_to_datetime_object\u001b[1;34m()\u001b[0m\n",
      "\u001b[1;32m~\\anaconda3\\lib\\site-packages\\pandas\\_libs\\tslibs\\parsing.pyx\u001b[0m in \u001b[0;36mpandas._libs.tslibs.parsing.parse_datetime_string\u001b[1;34m()\u001b[0m\n",
      "\u001b[1;32m~\\anaconda3\\lib\\site-packages\\dateutil\\parser\\_parser.py\u001b[0m in \u001b[0;36mparse\u001b[1;34m(timestr, parserinfo, **kwargs)\u001b[0m\n\u001b[0;32m   1366\u001b[0m         \u001b[1;32mreturn\u001b[0m \u001b[0mparser\u001b[0m\u001b[1;33m(\u001b[0m\u001b[0mparserinfo\u001b[0m\u001b[1;33m)\u001b[0m\u001b[1;33m.\u001b[0m\u001b[0mparse\u001b[0m\u001b[1;33m(\u001b[0m\u001b[0mtimestr\u001b[0m\u001b[1;33m,\u001b[0m \u001b[1;33m**\u001b[0m\u001b[0mkwargs\u001b[0m\u001b[1;33m)\u001b[0m\u001b[1;33m\u001b[0m\u001b[1;33m\u001b[0m\u001b[0m\n\u001b[0;32m   1367\u001b[0m     \u001b[1;32melse\u001b[0m\u001b[1;33m:\u001b[0m\u001b[1;33m\u001b[0m\u001b[1;33m\u001b[0m\u001b[0m\n\u001b[1;32m-> 1368\u001b[1;33m         \u001b[1;32mreturn\u001b[0m \u001b[0mDEFAULTPARSER\u001b[0m\u001b[1;33m.\u001b[0m\u001b[0mparse\u001b[0m\u001b[1;33m(\u001b[0m\u001b[0mtimestr\u001b[0m\u001b[1;33m,\u001b[0m \u001b[1;33m**\u001b[0m\u001b[0mkwargs\u001b[0m\u001b[1;33m)\u001b[0m\u001b[1;33m\u001b[0m\u001b[1;33m\u001b[0m\u001b[0m\n\u001b[0m\u001b[0;32m   1369\u001b[0m \u001b[1;33m\u001b[0m\u001b[0m\n\u001b[0;32m   1370\u001b[0m \u001b[1;33m\u001b[0m\u001b[0m\n",
      "\u001b[1;32m~\\anaconda3\\lib\\site-packages\\dateutil\\parser\\_parser.py\u001b[0m in \u001b[0;36mparse\u001b[1;34m(self, timestr, default, ignoretz, tzinfos, **kwargs)\u001b[0m\n\u001b[0;32m    641\u001b[0m \u001b[1;33m\u001b[0m\u001b[0m\n\u001b[0;32m    642\u001b[0m         \u001b[1;32mif\u001b[0m \u001b[0mres\u001b[0m \u001b[1;32mis\u001b[0m \u001b[1;32mNone\u001b[0m\u001b[1;33m:\u001b[0m\u001b[1;33m\u001b[0m\u001b[1;33m\u001b[0m\u001b[0m\n\u001b[1;32m--> 643\u001b[1;33m             \u001b[1;32mraise\u001b[0m \u001b[0mParserError\u001b[0m\u001b[1;33m(\u001b[0m\u001b[1;34m\"Unknown string format: %s\"\u001b[0m\u001b[1;33m,\u001b[0m \u001b[0mtimestr\u001b[0m\u001b[1;33m)\u001b[0m\u001b[1;33m\u001b[0m\u001b[1;33m\u001b[0m\u001b[0m\n\u001b[0m\u001b[0;32m    644\u001b[0m \u001b[1;33m\u001b[0m\u001b[0m\n\u001b[0;32m    645\u001b[0m         \u001b[1;32mif\u001b[0m \u001b[0mlen\u001b[0m\u001b[1;33m(\u001b[0m\u001b[0mres\u001b[0m\u001b[1;33m)\u001b[0m \u001b[1;33m==\u001b[0m \u001b[1;36m0\u001b[0m\u001b[1;33m:\u001b[0m\u001b[1;33m\u001b[0m\u001b[1;33m\u001b[0m\u001b[0m\n",
      "\u001b[1;31mParserError\u001b[0m: Unknown string format: Order Date"
     ]
    }
   ],
   "source": [
    "all_data['Order Date']=pd.to_datetime(all_data['Order Date'])"
   ]
  },
  {
   "cell_type": "code",
   "execution_count": 16,
   "id": "db0a468e",
   "metadata": {},
   "outputs": [],
   "source": [
    "# when we run this command to convert order date to timestamp \n",
    "# it shows this error 'Unknown string format: Order Date'\n",
    "# it means there is some string which cannot be converted to time"
   ]
  },
  {
   "cell_type": "code",
   "execution_count": 17,
   "id": "cf4907bb",
   "metadata": {},
   "outputs": [
    {
     "data": {
      "text/html": [
       "<div>\n",
       "<style scoped>\n",
       "    .dataframe tbody tr th:only-of-type {\n",
       "        vertical-align: middle;\n",
       "    }\n",
       "\n",
       "    .dataframe tbody tr th {\n",
       "        vertical-align: top;\n",
       "    }\n",
       "\n",
       "    .dataframe thead th {\n",
       "        text-align: right;\n",
       "    }\n",
       "</style>\n",
       "<table border=\"1\" class=\"dataframe\">\n",
       "  <thead>\n",
       "    <tr style=\"text-align: right;\">\n",
       "      <th></th>\n",
       "      <th>Order ID</th>\n",
       "      <th>Product</th>\n",
       "      <th>Quantity Ordered</th>\n",
       "      <th>Price Each</th>\n",
       "      <th>Order Date</th>\n",
       "      <th>Purchase Address</th>\n",
       "    </tr>\n",
       "  </thead>\n",
       "  <tbody>\n",
       "    <tr>\n",
       "      <th>519</th>\n",
       "      <td>Order ID</td>\n",
       "      <td>Product</td>\n",
       "      <td>Quantity Ordered</td>\n",
       "      <td>Price Each</td>\n",
       "      <td>Order Date</td>\n",
       "      <td>Purchase Address</td>\n",
       "    </tr>\n",
       "    <tr>\n",
       "      <th>1149</th>\n",
       "      <td>Order ID</td>\n",
       "      <td>Product</td>\n",
       "      <td>Quantity Ordered</td>\n",
       "      <td>Price Each</td>\n",
       "      <td>Order Date</td>\n",
       "      <td>Purchase Address</td>\n",
       "    </tr>\n",
       "    <tr>\n",
       "      <th>1155</th>\n",
       "      <td>Order ID</td>\n",
       "      <td>Product</td>\n",
       "      <td>Quantity Ordered</td>\n",
       "      <td>Price Each</td>\n",
       "      <td>Order Date</td>\n",
       "      <td>Purchase Address</td>\n",
       "    </tr>\n",
       "    <tr>\n",
       "      <th>2878</th>\n",
       "      <td>Order ID</td>\n",
       "      <td>Product</td>\n",
       "      <td>Quantity Ordered</td>\n",
       "      <td>Price Each</td>\n",
       "      <td>Order Date</td>\n",
       "      <td>Purchase Address</td>\n",
       "    </tr>\n",
       "    <tr>\n",
       "      <th>2893</th>\n",
       "      <td>Order ID</td>\n",
       "      <td>Product</td>\n",
       "      <td>Quantity Ordered</td>\n",
       "      <td>Price Each</td>\n",
       "      <td>Order Date</td>\n",
       "      <td>Purchase Address</td>\n",
       "    </tr>\n",
       "    <tr>\n",
       "      <th>...</th>\n",
       "      <td>...</td>\n",
       "      <td>...</td>\n",
       "      <td>...</td>\n",
       "      <td>...</td>\n",
       "      <td>...</td>\n",
       "      <td>...</td>\n",
       "    </tr>\n",
       "    <tr>\n",
       "      <th>172816</th>\n",
       "      <td>Order ID</td>\n",
       "      <td>Product</td>\n",
       "      <td>Quantity Ordered</td>\n",
       "      <td>Price Each</td>\n",
       "      <td>Order Date</td>\n",
       "      <td>Purchase Address</td>\n",
       "    </tr>\n",
       "    <tr>\n",
       "      <th>172856</th>\n",
       "      <td>Order ID</td>\n",
       "      <td>Product</td>\n",
       "      <td>Quantity Ordered</td>\n",
       "      <td>Price Each</td>\n",
       "      <td>Order Date</td>\n",
       "      <td>Purchase Address</td>\n",
       "    </tr>\n",
       "    <tr>\n",
       "      <th>173402</th>\n",
       "      <td>Order ID</td>\n",
       "      <td>Product</td>\n",
       "      <td>Quantity Ordered</td>\n",
       "      <td>Price Each</td>\n",
       "      <td>Order Date</td>\n",
       "      <td>Purchase Address</td>\n",
       "    </tr>\n",
       "    <tr>\n",
       "      <th>173673</th>\n",
       "      <td>Order ID</td>\n",
       "      <td>Product</td>\n",
       "      <td>Quantity Ordered</td>\n",
       "      <td>Price Each</td>\n",
       "      <td>Order Date</td>\n",
       "      <td>Purchase Address</td>\n",
       "    </tr>\n",
       "    <tr>\n",
       "      <th>175088</th>\n",
       "      <td>Order ID</td>\n",
       "      <td>Product</td>\n",
       "      <td>Quantity Ordered</td>\n",
       "      <td>Price Each</td>\n",
       "      <td>Order Date</td>\n",
       "      <td>Purchase Address</td>\n",
       "    </tr>\n",
       "  </tbody>\n",
       "</table>\n",
       "<p>338 rows × 6 columns</p>\n",
       "</div>"
      ],
      "text/plain": [
       "        Order ID  Product  Quantity Ordered  Price Each  Order Date  \\\n",
       "519     Order ID  Product  Quantity Ordered  Price Each  Order Date   \n",
       "1149    Order ID  Product  Quantity Ordered  Price Each  Order Date   \n",
       "1155    Order ID  Product  Quantity Ordered  Price Each  Order Date   \n",
       "2878    Order ID  Product  Quantity Ordered  Price Each  Order Date   \n",
       "2893    Order ID  Product  Quantity Ordered  Price Each  Order Date   \n",
       "...          ...      ...               ...         ...         ...   \n",
       "172816  Order ID  Product  Quantity Ordered  Price Each  Order Date   \n",
       "172856  Order ID  Product  Quantity Ordered  Price Each  Order Date   \n",
       "173402  Order ID  Product  Quantity Ordered  Price Each  Order Date   \n",
       "173673  Order ID  Product  Quantity Ordered  Price Each  Order Date   \n",
       "175088  Order ID  Product  Quantity Ordered  Price Each  Order Date   \n",
       "\n",
       "        Purchase Address  \n",
       "519     Purchase Address  \n",
       "1149    Purchase Address  \n",
       "1155    Purchase Address  \n",
       "2878    Purchase Address  \n",
       "2893    Purchase Address  \n",
       "...                  ...  \n",
       "172816  Purchase Address  \n",
       "172856  Purchase Address  \n",
       "173402  Purchase Address  \n",
       "173673  Purchase Address  \n",
       "175088  Purchase Address  \n",
       "\n",
       "[338 rows x 6 columns]"
      ]
     },
     "execution_count": 17,
     "metadata": {},
     "output_type": "execute_result"
    }
   ],
   "source": [
    "all_data[all_data['Order Date']=='Order Date']"
   ]
  },
  {
   "cell_type": "markdown",
   "id": "9dc5b47c",
   "metadata": {},
   "source": [
    "### now we found the error and we have to remove all these special values"
   ]
  },
  {
   "cell_type": "code",
   "execution_count": 18,
   "id": "03afd89a",
   "metadata": {},
   "outputs": [
    {
     "name": "stderr",
     "output_type": "stream",
     "text": [
      "C:\\Users\\User\\AppData\\Local\\Temp/ipykernel_3300/3725126539.py:2: SettingWithCopyWarning: \n",
      "A value is trying to be set on a copy of a slice from a DataFrame.\n",
      "Try using .loc[row_indexer,col_indexer] = value instead\n",
      "\n",
      "See the caveats in the documentation: https://pandas.pydata.org/pandas-docs/stable/user_guide/indexing.html#returning-a-view-versus-a-copy\n",
      "  all_data['Order Date']=all_data['Order Date'].replace('Order Date',np.NaN)\n"
     ]
    }
   ],
   "source": [
    "# converting special values to nan values\n",
    "all_data['Order Date']=all_data['Order Date'].replace('Order Date',np.NaN)"
   ]
  },
  {
   "cell_type": "code",
   "execution_count": 19,
   "id": "a2334eb4",
   "metadata": {},
   "outputs": [
    {
     "data": {
      "text/plain": [
       "Order ID              0\n",
       "Product               0\n",
       "Quantity Ordered      0\n",
       "Price Each            0\n",
       "Order Date          338\n",
       "Purchase Address      0\n",
       "dtype: int64"
      ]
     },
     "execution_count": 19,
     "metadata": {},
     "output_type": "execute_result"
    }
   ],
   "source": [
    "all_data.isnull().sum()"
   ]
  },
  {
   "cell_type": "code",
   "execution_count": 20,
   "id": "0e978fe7",
   "metadata": {},
   "outputs": [],
   "source": [
    "all_data=all_data.dropna()"
   ]
  },
  {
   "cell_type": "code",
   "execution_count": 21,
   "id": "0760aa95",
   "metadata": {},
   "outputs": [
    {
     "data": {
      "text/plain": [
       "Order ID            0\n",
       "Product             0\n",
       "Quantity Ordered    0\n",
       "Price Each          0\n",
       "Order Date          0\n",
       "Purchase Address    0\n",
       "dtype: int64"
      ]
     },
     "execution_count": 21,
     "metadata": {},
     "output_type": "execute_result"
    }
   ],
   "source": [
    "all_data.isnull().sum()"
   ]
  },
  {
   "cell_type": "markdown",
   "id": "b5547d27",
   "metadata": {},
   "source": [
    "### Yippieeeee!!! We have cleaned all data."
   ]
  },
  {
   "cell_type": "markdown",
   "id": "d255681f",
   "metadata": {},
   "source": [
    "## converting order date to date_time type!"
   ]
  },
  {
   "cell_type": "code",
   "execution_count": 22,
   "id": "da8daba5",
   "metadata": {},
   "outputs": [],
   "source": [
    "all_data['Order Date']=pd.to_datetime(all_data['Order Date'])"
   ]
  },
  {
   "cell_type": "code",
   "execution_count": 23,
   "id": "20b99e26",
   "metadata": {},
   "outputs": [
    {
     "data": {
      "text/html": [
       "<div>\n",
       "<style scoped>\n",
       "    .dataframe tbody tr th:only-of-type {\n",
       "        vertical-align: middle;\n",
       "    }\n",
       "\n",
       "    .dataframe tbody tr th {\n",
       "        vertical-align: top;\n",
       "    }\n",
       "\n",
       "    .dataframe thead th {\n",
       "        text-align: right;\n",
       "    }\n",
       "</style>\n",
       "<table border=\"1\" class=\"dataframe\">\n",
       "  <thead>\n",
       "    <tr style=\"text-align: right;\">\n",
       "      <th></th>\n",
       "      <th>Order ID</th>\n",
       "      <th>Product</th>\n",
       "      <th>Quantity Ordered</th>\n",
       "      <th>Price Each</th>\n",
       "      <th>Order Date</th>\n",
       "      <th>Purchase Address</th>\n",
       "    </tr>\n",
       "  </thead>\n",
       "  <tbody>\n",
       "    <tr>\n",
       "      <th>0</th>\n",
       "      <td>176558</td>\n",
       "      <td>USB-C Charging Cable</td>\n",
       "      <td>2</td>\n",
       "      <td>11.95</td>\n",
       "      <td>2019-04-19 08:46:00</td>\n",
       "      <td>917 1st St, Dallas, TX 75001</td>\n",
       "    </tr>\n",
       "    <tr>\n",
       "      <th>2</th>\n",
       "      <td>176559</td>\n",
       "      <td>Bose SoundSport Headphones</td>\n",
       "      <td>1</td>\n",
       "      <td>99.99</td>\n",
       "      <td>2019-04-07 22:30:00</td>\n",
       "      <td>682 Chestnut St, Boston, MA 02215</td>\n",
       "    </tr>\n",
       "    <tr>\n",
       "      <th>3</th>\n",
       "      <td>176560</td>\n",
       "      <td>Google Phone</td>\n",
       "      <td>1</td>\n",
       "      <td>600</td>\n",
       "      <td>2019-04-12 14:38:00</td>\n",
       "      <td>669 Spruce St, Los Angeles, CA 90001</td>\n",
       "    </tr>\n",
       "    <tr>\n",
       "      <th>4</th>\n",
       "      <td>176560</td>\n",
       "      <td>Wired Headphones</td>\n",
       "      <td>1</td>\n",
       "      <td>11.99</td>\n",
       "      <td>2019-04-12 14:38:00</td>\n",
       "      <td>669 Spruce St, Los Angeles, CA 90001</td>\n",
       "    </tr>\n",
       "    <tr>\n",
       "      <th>5</th>\n",
       "      <td>176561</td>\n",
       "      <td>Wired Headphones</td>\n",
       "      <td>1</td>\n",
       "      <td>11.99</td>\n",
       "      <td>2019-04-30 09:27:00</td>\n",
       "      <td>333 8th St, Los Angeles, CA 90001</td>\n",
       "    </tr>\n",
       "  </tbody>\n",
       "</table>\n",
       "</div>"
      ],
      "text/plain": [
       "  Order ID                     Product Quantity Ordered Price Each  \\\n",
       "0   176558        USB-C Charging Cable                2      11.95   \n",
       "2   176559  Bose SoundSport Headphones                1      99.99   \n",
       "3   176560                Google Phone                1        600   \n",
       "4   176560            Wired Headphones                1      11.99   \n",
       "5   176561            Wired Headphones                1      11.99   \n",
       "\n",
       "           Order Date                      Purchase Address  \n",
       "0 2019-04-19 08:46:00          917 1st St, Dallas, TX 75001  \n",
       "2 2019-04-07 22:30:00     682 Chestnut St, Boston, MA 02215  \n",
       "3 2019-04-12 14:38:00  669 Spruce St, Los Angeles, CA 90001  \n",
       "4 2019-04-12 14:38:00  669 Spruce St, Los Angeles, CA 90001  \n",
       "5 2019-04-30 09:27:00     333 8th St, Los Angeles, CA 90001  "
      ]
     },
     "execution_count": 23,
     "metadata": {},
     "output_type": "execute_result"
    }
   ],
   "source": [
    "all_data.head()"
   ]
  },
  {
   "cell_type": "code",
   "execution_count": 24,
   "id": "e286e23e",
   "metadata": {},
   "outputs": [
    {
     "data": {
      "text/plain": [
       "Timestamp('2019-04-19 08:46:00')"
      ]
     },
     "execution_count": 24,
     "metadata": {},
     "output_type": "execute_result"
    }
   ],
   "source": [
    "all_data['Order Date'][0]"
   ]
  },
  {
   "cell_type": "code",
   "execution_count": 25,
   "id": "90148677",
   "metadata": {},
   "outputs": [
    {
     "data": {
      "text/plain": [
       "pandas._libs.tslibs.timestamps.Timestamp"
      ]
     },
     "execution_count": 25,
     "metadata": {},
     "output_type": "execute_result"
    }
   ],
   "source": [
    "type(all_data['Order Date'][0])"
   ]
  },
  {
   "cell_type": "code",
   "execution_count": 26,
   "id": "b6070acf",
   "metadata": {},
   "outputs": [],
   "source": [
    "## creating a new column with months in it"
   ]
  },
  {
   "cell_type": "code",
   "execution_count": 27,
   "id": "c7bfb465",
   "metadata": {},
   "outputs": [],
   "source": [
    "all_data['month'] = pd.DatetimeIndex(all_data['Order Date']).month"
   ]
  },
  {
   "cell_type": "code",
   "execution_count": 28,
   "id": "45fc150e",
   "metadata": {},
   "outputs": [
    {
     "data": {
      "text/html": [
       "<div>\n",
       "<style scoped>\n",
       "    .dataframe tbody tr th:only-of-type {\n",
       "        vertical-align: middle;\n",
       "    }\n",
       "\n",
       "    .dataframe tbody tr th {\n",
       "        vertical-align: top;\n",
       "    }\n",
       "\n",
       "    .dataframe thead th {\n",
       "        text-align: right;\n",
       "    }\n",
       "</style>\n",
       "<table border=\"1\" class=\"dataframe\">\n",
       "  <thead>\n",
       "    <tr style=\"text-align: right;\">\n",
       "      <th></th>\n",
       "      <th>Order ID</th>\n",
       "      <th>Product</th>\n",
       "      <th>Quantity Ordered</th>\n",
       "      <th>Price Each</th>\n",
       "      <th>Order Date</th>\n",
       "      <th>Purchase Address</th>\n",
       "      <th>month</th>\n",
       "    </tr>\n",
       "  </thead>\n",
       "  <tbody>\n",
       "    <tr>\n",
       "      <th>0</th>\n",
       "      <td>176558</td>\n",
       "      <td>USB-C Charging Cable</td>\n",
       "      <td>2</td>\n",
       "      <td>11.95</td>\n",
       "      <td>2019-04-19 08:46:00</td>\n",
       "      <td>917 1st St, Dallas, TX 75001</td>\n",
       "      <td>4</td>\n",
       "    </tr>\n",
       "    <tr>\n",
       "      <th>2</th>\n",
       "      <td>176559</td>\n",
       "      <td>Bose SoundSport Headphones</td>\n",
       "      <td>1</td>\n",
       "      <td>99.99</td>\n",
       "      <td>2019-04-07 22:30:00</td>\n",
       "      <td>682 Chestnut St, Boston, MA 02215</td>\n",
       "      <td>4</td>\n",
       "    </tr>\n",
       "    <tr>\n",
       "      <th>3</th>\n",
       "      <td>176560</td>\n",
       "      <td>Google Phone</td>\n",
       "      <td>1</td>\n",
       "      <td>600</td>\n",
       "      <td>2019-04-12 14:38:00</td>\n",
       "      <td>669 Spruce St, Los Angeles, CA 90001</td>\n",
       "      <td>4</td>\n",
       "    </tr>\n",
       "    <tr>\n",
       "      <th>4</th>\n",
       "      <td>176560</td>\n",
       "      <td>Wired Headphones</td>\n",
       "      <td>1</td>\n",
       "      <td>11.99</td>\n",
       "      <td>2019-04-12 14:38:00</td>\n",
       "      <td>669 Spruce St, Los Angeles, CA 90001</td>\n",
       "      <td>4</td>\n",
       "    </tr>\n",
       "    <tr>\n",
       "      <th>5</th>\n",
       "      <td>176561</td>\n",
       "      <td>Wired Headphones</td>\n",
       "      <td>1</td>\n",
       "      <td>11.99</td>\n",
       "      <td>2019-04-30 09:27:00</td>\n",
       "      <td>333 8th St, Los Angeles, CA 90001</td>\n",
       "      <td>4</td>\n",
       "    </tr>\n",
       "  </tbody>\n",
       "</table>\n",
       "</div>"
      ],
      "text/plain": [
       "  Order ID                     Product Quantity Ordered Price Each  \\\n",
       "0   176558        USB-C Charging Cable                2      11.95   \n",
       "2   176559  Bose SoundSport Headphones                1      99.99   \n",
       "3   176560                Google Phone                1        600   \n",
       "4   176560            Wired Headphones                1      11.99   \n",
       "5   176561            Wired Headphones                1      11.99   \n",
       "\n",
       "           Order Date                      Purchase Address  month  \n",
       "0 2019-04-19 08:46:00          917 1st St, Dallas, TX 75001      4  \n",
       "2 2019-04-07 22:30:00     682 Chestnut St, Boston, MA 02215      4  \n",
       "3 2019-04-12 14:38:00  669 Spruce St, Los Angeles, CA 90001      4  \n",
       "4 2019-04-12 14:38:00  669 Spruce St, Los Angeles, CA 90001      4  \n",
       "5 2019-04-30 09:27:00     333 8th St, Los Angeles, CA 90001      4  "
      ]
     },
     "execution_count": 28,
     "metadata": {},
     "output_type": "execute_result"
    }
   ],
   "source": [
    "all_data.head()"
   ]
  },
  {
   "cell_type": "code",
   "execution_count": 29,
   "id": "9d4a0c33",
   "metadata": {
    "scrolled": false
   },
   "outputs": [
    {
     "data": {
      "text/html": [
       "<div>\n",
       "<style scoped>\n",
       "    .dataframe tbody tr th:only-of-type {\n",
       "        vertical-align: middle;\n",
       "    }\n",
       "\n",
       "    .dataframe tbody tr th {\n",
       "        vertical-align: top;\n",
       "    }\n",
       "\n",
       "    .dataframe thead th {\n",
       "        text-align: right;\n",
       "    }\n",
       "</style>\n",
       "<table border=\"1\" class=\"dataframe\">\n",
       "  <thead>\n",
       "    <tr style=\"text-align: right;\">\n",
       "      <th></th>\n",
       "      <th>Order ID</th>\n",
       "      <th>Product</th>\n",
       "      <th>Quantity Ordered</th>\n",
       "      <th>Price Each</th>\n",
       "      <th>Order Date</th>\n",
       "      <th>Purchase Address</th>\n",
       "      <th>month</th>\n",
       "    </tr>\n",
       "  </thead>\n",
       "  <tbody>\n",
       "    <tr>\n",
       "      <th>73891</th>\n",
       "      <td>147268</td>\n",
       "      <td>Wired Headphones</td>\n",
       "      <td>1</td>\n",
       "      <td>11.99</td>\n",
       "      <td>2019-01-01 03:07:00</td>\n",
       "      <td>9 Lake St, New York City, NY 10001</td>\n",
       "      <td>1</td>\n",
       "    </tr>\n",
       "    <tr>\n",
       "      <th>74701</th>\n",
       "      <td>148041</td>\n",
       "      <td>USB-C Charging Cable</td>\n",
       "      <td>1</td>\n",
       "      <td>11.95</td>\n",
       "      <td>2019-01-01 03:40:00</td>\n",
       "      <td>760 Church St, San Francisco, CA 94016</td>\n",
       "      <td>1</td>\n",
       "    </tr>\n",
       "    <tr>\n",
       "      <th>76054</th>\n",
       "      <td>149343</td>\n",
       "      <td>Apple Airpods Headphones</td>\n",
       "      <td>1</td>\n",
       "      <td>150</td>\n",
       "      <td>2019-01-01 04:56:00</td>\n",
       "      <td>735 5th St, New York City, NY 10001</td>\n",
       "      <td>1</td>\n",
       "    </tr>\n",
       "    <tr>\n",
       "      <th>76708</th>\n",
       "      <td>149964</td>\n",
       "      <td>AAA Batteries (4-pack)</td>\n",
       "      <td>1</td>\n",
       "      <td>2.99</td>\n",
       "      <td>2019-01-01 05:53:00</td>\n",
       "      <td>75 Jackson St, Dallas, TX 75001</td>\n",
       "      <td>1</td>\n",
       "    </tr>\n",
       "    <tr>\n",
       "      <th>76061</th>\n",
       "      <td>149350</td>\n",
       "      <td>USB-C Charging Cable</td>\n",
       "      <td>2</td>\n",
       "      <td>11.95</td>\n",
       "      <td>2019-01-01 06:03:00</td>\n",
       "      <td>943 2nd St, Atlanta, GA 30301</td>\n",
       "      <td>1</td>\n",
       "    </tr>\n",
       "  </tbody>\n",
       "</table>\n",
       "</div>"
      ],
      "text/plain": [
       "      Order ID                   Product Quantity Ordered Price Each  \\\n",
       "73891   147268          Wired Headphones                1      11.99   \n",
       "74701   148041      USB-C Charging Cable                1      11.95   \n",
       "76054   149343  Apple Airpods Headphones                1        150   \n",
       "76708   149964    AAA Batteries (4-pack)                1       2.99   \n",
       "76061   149350      USB-C Charging Cable                2      11.95   \n",
       "\n",
       "               Order Date                        Purchase Address  month  \n",
       "73891 2019-01-01 03:07:00      9 Lake St, New York City, NY 10001      1  \n",
       "74701 2019-01-01 03:40:00  760 Church St, San Francisco, CA 94016      1  \n",
       "76054 2019-01-01 04:56:00     735 5th St, New York City, NY 10001      1  \n",
       "76708 2019-01-01 05:53:00         75 Jackson St, Dallas, TX 75001      1  \n",
       "76061 2019-01-01 06:03:00           943 2nd St, Atlanta, GA 30301      1  "
      ]
     },
     "execution_count": 29,
     "metadata": {},
     "output_type": "execute_result"
    }
   ],
   "source": [
    "## since the dataframe has starting month with 4th we have to sort it first\n",
    "all_data=all_data.sort_values(by='Order Date')\n",
    "all_data.head()"
   ]
  },
  {
   "cell_type": "code",
   "execution_count": 30,
   "id": "daf184cb",
   "metadata": {},
   "outputs": [],
   "source": [
    "all_data=all_data.reset_index()"
   ]
  },
  {
   "cell_type": "code",
   "execution_count": 31,
   "id": "d45bf8d5",
   "metadata": {},
   "outputs": [],
   "source": [
    "## adding a sales column\n",
    "# all_data['sales']=all_data['Price Each']*all_data['Quantity Ordered']\n",
    "# for this first we have to convert price and quantity to integer values"
   ]
  },
  {
   "cell_type": "code",
   "execution_count": 32,
   "id": "25cd51b7",
   "metadata": {},
   "outputs": [],
   "source": [
    "all_data['Quantity Ordered']=all_data['Quantity Ordered'].astype(int)\n",
    "all_data['Price Each']=all_data['Price Each'].astype(float)"
   ]
  },
  {
   "cell_type": "code",
   "execution_count": 33,
   "id": "5d9438fc",
   "metadata": {},
   "outputs": [
    {
     "data": {
      "text/plain": [
       "<AxesSubplot:xlabel='Price Each'>"
      ]
     },
     "execution_count": 33,
     "metadata": {},
     "output_type": "execute_result"
    },
    {
     "data": {
      "image/png": "[encoded data removed]",
      "text/plain": [
       "<Figure size 432x288 with 1 Axes>"
      ]
     },
     "metadata": {
      "needs_background": "light"
     },
     "output_type": "display_data"
    }
   ],
   "source": [
    "sns.boxplot(data=all_data, x = 'Price Each', orient= 'h')"
   ]
  },
  {
   "cell_type": "code",
   "execution_count": 34,
   "id": "e84757b5",
   "metadata": {},
   "outputs": [],
   "source": [
    "all_data['sales']=all_data['Price Each']*all_data['Quantity Ordered']"
   ]
  },
  {
   "cell_type": "code",
   "execution_count": 35,
   "id": "f115947a",
   "metadata": {},
   "outputs": [
    {
     "data": {
      "text/html": [
       "<div>\n",
       "<style scoped>\n",
       "    .dataframe tbody tr th:only-of-type {\n",
       "        vertical-align: middle;\n",
       "    }\n",
       "\n",
       "    .dataframe tbody tr th {\n",
       "        vertical-align: top;\n",
       "    }\n",
       "\n",
       "    .dataframe thead th {\n",
       "        text-align: right;\n",
       "    }\n",
       "</style>\n",
       "<table border=\"1\" class=\"dataframe\">\n",
       "  <thead>\n",
       "    <tr style=\"text-align: right;\">\n",
       "      <th></th>\n",
       "      <th>index</th>\n",
       "      <th>Order ID</th>\n",
       "      <th>Product</th>\n",
       "      <th>Quantity Ordered</th>\n",
       "      <th>Price Each</th>\n",
       "      <th>Order Date</th>\n",
       "      <th>Purchase Address</th>\n",
       "      <th>month</th>\n",
       "      <th>sales</th>\n",
       "    </tr>\n",
       "  </thead>\n",
       "  <tbody>\n",
       "    <tr>\n",
       "      <th>0</th>\n",
       "      <td>73891</td>\n",
       "      <td>147268</td>\n",
       "      <td>Wired Headphones</td>\n",
       "      <td>1</td>\n",
       "      <td>11.99</td>\n",
       "      <td>2019-01-01 03:07:00</td>\n",
       "      <td>9 Lake St, New York City, NY 10001</td>\n",
       "      <td>1</td>\n",
       "      <td>11.99</td>\n",
       "    </tr>\n",
       "  </tbody>\n",
       "</table>\n",
       "</div>"
      ],
      "text/plain": [
       "   index Order ID           Product  Quantity Ordered  Price Each  \\\n",
       "0  73891   147268  Wired Headphones                 1       11.99   \n",
       "\n",
       "           Order Date                    Purchase Address  month  sales  \n",
       "0 2019-01-01 03:07:00  9 Lake St, New York City, NY 10001      1  11.99  "
      ]
     },
     "execution_count": 35,
     "metadata": {},
     "output_type": "execute_result"
    }
   ],
   "source": [
    "all_data.head(1)"
   ]
  },
  {
   "cell_type": "code",
   "execution_count": 36,
   "id": "e34c1f5c",
   "metadata": {},
   "outputs": [],
   "source": [
    "## checking unique values of months\n",
    "month_list=all_data['month'].unique().tolist()"
   ]
  },
  {
   "cell_type": "code",
   "execution_count": 37,
   "id": "d765ab2c",
   "metadata": {},
   "outputs": [
    {
     "data": {
      "text/plain": [
       "[1, 2, 3, 4, 5, 6, 7, 8, 9, 10, 11, 12]"
      ]
     },
     "execution_count": 37,
     "metadata": {},
     "output_type": "execute_result"
    }
   ],
   "source": [
    "month_list"
   ]
  },
  {
   "cell_type": "code",
   "execution_count": 38,
   "id": "d3e9a205",
   "metadata": {},
   "outputs": [
    {
     "data": {
      "text/plain": [
       "int"
      ]
     },
     "execution_count": 38,
     "metadata": {},
     "output_type": "execute_result"
    }
   ],
   "source": [
    "type(month_list[0])"
   ]
  },
  {
   "cell_type": "code",
   "execution_count": 39,
   "id": "7328ed0c",
   "metadata": {
    "scrolled": false
   },
   "outputs": [
    {
     "data": {
      "text/plain": [
       "numpy.int64"
      ]
     },
     "execution_count": 39,
     "metadata": {},
     "output_type": "execute_result"
    }
   ],
   "source": [
    "type(all_data['month'][0])"
   ]
  },
  {
   "cell_type": "code",
   "execution_count": 40,
   "id": "10500f50",
   "metadata": {},
   "outputs": [],
   "source": [
    "all_data['month']=all_data['month'].astype(int)"
   ]
  },
  {
   "cell_type": "code",
   "execution_count": 41,
   "id": "b6e2d3df",
   "metadata": {},
   "outputs": [
    {
     "data": {
      "text/plain": [
       "numpy.int32"
      ]
     },
     "execution_count": 41,
     "metadata": {},
     "output_type": "execute_result"
    }
   ],
   "source": [
    "type(all_data['month'][0])"
   ]
  },
  {
   "cell_type": "code",
   "execution_count": 42,
   "id": "099db83e",
   "metadata": {},
   "outputs": [
    {
     "name": "stdout",
     "output_type": "stream",
     "text": [
      "the total sales in 1 is 1822256.73\n",
      "the total sales in 2 is 2202022.42\n",
      "the total sales in 3 is 2807100.38\n",
      "the total sales in 4 is 3390670.2399999993\n",
      "the total sales in 5 is 3152606.7499999995\n",
      "the total sales in 6 is 2577802.26\n",
      "the total sales in 7 is 2647775.76\n",
      "the total sales in 8 is 2244467.88\n",
      "the total sales in 9 is 2096.74\n",
      "the total sales in 10 is 3733373.57\n",
      "the total sales in 11 is 3199603.1999999997\n",
      "the total sales in 12 is 4613443.339999999\n"
     ]
    },
    {
     "data": {
      "image/png": "[encoded data removed]",
      "text/plain": [
       "<Figure size 432x288 with 1 Axes>"
      ]
     },
     "metadata": {
      "needs_background": "light"
     },
     "output_type": "display_data"
    }
   ],
   "source": [
    "sales=[]\n",
    "for m in month_list:\n",
    "    print('the total sales in '+ str(m) +' is '+str(all_data[all_data['month']==m]['sales'].sum()))\n",
    "    sales.append(all_data[all_data['month']==m]['sales'].sum())\n",
    "plt.bar(month_list,sales)\n",
    "plt.xticks(rotation='vertical')\n",
    "plt.show()"
   ]
  },
  {
   "cell_type": "markdown",
   "id": "cb5f0258",
   "metadata": {},
   "source": [
    "## Which city purchased the most product?"
   ]
  },
  {
   "cell_type": "code",
   "execution_count": 43,
   "id": "80694a20",
   "metadata": {},
   "outputs": [
    {
     "data": {
      "text/plain": [
       "Index(['index', 'Order ID', 'Product', 'Quantity Ordered', 'Price Each',\n",
       "       'Order Date', 'Purchase Address', 'month', 'sales'],\n",
       "      dtype='object')"
      ]
     },
     "execution_count": 43,
     "metadata": {},
     "output_type": "execute_result"
    }
   ],
   "source": [
    "all_data.columns"
   ]
  },
  {
   "cell_type": "code",
   "execution_count": 44,
   "id": "107060b7",
   "metadata": {},
   "outputs": [],
   "source": [
    "# first we have to add city column to our data"
   ]
  },
  {
   "cell_type": "code",
   "execution_count": 45,
   "id": "f5e72a3d",
   "metadata": {},
   "outputs": [],
   "source": [
    "all_data['city']=all_data['Purchase Address'].str.split(',').str[1]"
   ]
  },
  {
   "cell_type": "code",
   "execution_count": 46,
   "id": "a91b8894",
   "metadata": {},
   "outputs": [
    {
     "data": {
      "text/html": [
       "<div>\n",
       "<style scoped>\n",
       "    .dataframe tbody tr th:only-of-type {\n",
       "        vertical-align: middle;\n",
       "    }\n",
       "\n",
       "    .dataframe tbody tr th {\n",
       "        vertical-align: top;\n",
       "    }\n",
       "\n",
       "    .dataframe thead th {\n",
       "        text-align: right;\n",
       "    }\n",
       "</style>\n",
       "<table border=\"1\" class=\"dataframe\">\n",
       "  <thead>\n",
       "    <tr style=\"text-align: right;\">\n",
       "      <th></th>\n",
       "      <th>index</th>\n",
       "      <th>Order ID</th>\n",
       "      <th>Product</th>\n",
       "      <th>Quantity Ordered</th>\n",
       "      <th>Price Each</th>\n",
       "      <th>Order Date</th>\n",
       "      <th>Purchase Address</th>\n",
       "      <th>month</th>\n",
       "      <th>sales</th>\n",
       "      <th>city</th>\n",
       "    </tr>\n",
       "  </thead>\n",
       "  <tbody>\n",
       "    <tr>\n",
       "      <th>0</th>\n",
       "      <td>73891</td>\n",
       "      <td>147268</td>\n",
       "      <td>Wired Headphones</td>\n",
       "      <td>1</td>\n",
       "      <td>11.99</td>\n",
       "      <td>2019-01-01 03:07:00</td>\n",
       "      <td>9 Lake St, New York City, NY 10001</td>\n",
       "      <td>1</td>\n",
       "      <td>11.99</td>\n",
       "      <td>New York City</td>\n",
       "    </tr>\n",
       "    <tr>\n",
       "      <th>1</th>\n",
       "      <td>74701</td>\n",
       "      <td>148041</td>\n",
       "      <td>USB-C Charging Cable</td>\n",
       "      <td>1</td>\n",
       "      <td>11.95</td>\n",
       "      <td>2019-01-01 03:40:00</td>\n",
       "      <td>760 Church St, San Francisco, CA 94016</td>\n",
       "      <td>1</td>\n",
       "      <td>11.95</td>\n",
       "      <td>San Francisco</td>\n",
       "    </tr>\n",
       "    <tr>\n",
       "      <th>2</th>\n",
       "      <td>76054</td>\n",
       "      <td>149343</td>\n",
       "      <td>Apple Airpods Headphones</td>\n",
       "      <td>1</td>\n",
       "      <td>150.00</td>\n",
       "      <td>2019-01-01 04:56:00</td>\n",
       "      <td>735 5th St, New York City, NY 10001</td>\n",
       "      <td>1</td>\n",
       "      <td>150.00</td>\n",
       "      <td>New York City</td>\n",
       "    </tr>\n",
       "    <tr>\n",
       "      <th>3</th>\n",
       "      <td>76708</td>\n",
       "      <td>149964</td>\n",
       "      <td>AAA Batteries (4-pack)</td>\n",
       "      <td>1</td>\n",
       "      <td>2.99</td>\n",
       "      <td>2019-01-01 05:53:00</td>\n",
       "      <td>75 Jackson St, Dallas, TX 75001</td>\n",
       "      <td>1</td>\n",
       "      <td>2.99</td>\n",
       "      <td>Dallas</td>\n",
       "    </tr>\n",
       "    <tr>\n",
       "      <th>4</th>\n",
       "      <td>76061</td>\n",
       "      <td>149350</td>\n",
       "      <td>USB-C Charging Cable</td>\n",
       "      <td>2</td>\n",
       "      <td>11.95</td>\n",
       "      <td>2019-01-01 06:03:00</td>\n",
       "      <td>943 2nd St, Atlanta, GA 30301</td>\n",
       "      <td>1</td>\n",
       "      <td>23.90</td>\n",
       "      <td>Atlanta</td>\n",
       "    </tr>\n",
       "  </tbody>\n",
       "</table>\n",
       "</div>"
      ],
      "text/plain": [
       "   index Order ID                   Product  Quantity Ordered  Price Each  \\\n",
       "0  73891   147268          Wired Headphones                 1       11.99   \n",
       "1  74701   148041      USB-C Charging Cable                 1       11.95   \n",
       "2  76054   149343  Apple Airpods Headphones                 1      150.00   \n",
       "3  76708   149964    AAA Batteries (4-pack)                 1        2.99   \n",
       "4  76061   149350      USB-C Charging Cable                 2       11.95   \n",
       "\n",
       "           Order Date                        Purchase Address  month   sales  \\\n",
       "0 2019-01-01 03:07:00      9 Lake St, New York City, NY 10001      1   11.99   \n",
       "1 2019-01-01 03:40:00  760 Church St, San Francisco, CA 94016      1   11.95   \n",
       "2 2019-01-01 04:56:00     735 5th St, New York City, NY 10001      1  150.00   \n",
       "3 2019-01-01 05:53:00         75 Jackson St, Dallas, TX 75001      1    2.99   \n",
       "4 2019-01-01 06:03:00           943 2nd St, Atlanta, GA 30301      1   23.90   \n",
       "\n",
       "             city  \n",
       "0   New York City  \n",
       "1   San Francisco  \n",
       "2   New York City  \n",
       "3          Dallas  \n",
       "4         Atlanta  "
      ]
     },
     "execution_count": 46,
     "metadata": {},
     "output_type": "execute_result"
    }
   ],
   "source": [
    "all_data.head()"
   ]
  },
  {
   "cell_type": "code",
   "execution_count": null,
   "id": "24fcd5be",
   "metadata": {},
   "outputs": [],
   "source": [
    "group_bycity=all_data.groupby('city')"
   ]
  },
  {
   "cell_type": "code",
   "execution_count": null,
   "id": "4014550e",
   "metadata": {},
   "outputs": [],
   "source": [
    "list_ofcity=all_data['city'].unique().tolist()"
   ]
  },
  {
   "cell_type": "code",
   "execution_count": null,
   "id": "2b8d0002",
   "metadata": {},
   "outputs": [],
   "source": [
    "type(list_ofcity)"
   ]
  },
  {
   "cell_type": "code",
   "execution_count": null,
   "id": "c6355c16",
   "metadata": {},
   "outputs": [],
   "source": [
    "sales_percity=[]\n",
    "for city in list_ofcity:\n",
    "    print('total sales in '+ city + ' is ' +str(group_bycity.get_group(city)['sales'].sum()))\n",
    "    sales_percity.append(group_bycity.get_group(city)['sales'].sum())"
   ]
  },
  {
   "cell_type": "code",
   "execution_count": null,
   "id": "6e4d9552",
   "metadata": {},
   "outputs": [],
   "source": [
    "plt.bar(list_ofcity,sales_percity)\n",
    "plt.xticks(rotation='vertical')\n",
    "plt.xlabel(\"cities\")\n",
    "plt.ylabel('sales')\n",
    "plt.show()"
   ]
  },
  {
   "cell_type": "markdown",
   "id": "38a39b03",
   "metadata": {},
   "source": [
    "## What time should we display ads?"
   ]
  },
  {
   "cell_type": "code",
   "execution_count": null,
   "id": "602cb799",
   "metadata": {},
   "outputs": [],
   "source": [
    "## first of all we have to make a column of bought_time\n",
    "## for this first we have to extract time from order date column\n",
    "# for this we have to import date time module\n",
    "import datetime as dt"
   ]
  },
  {
   "cell_type": "code",
   "execution_count": null,
   "id": "a4077d1d",
   "metadata": {},
   "outputs": [],
   "source": [
    "all_data['bought_time']=all_data['Order Date'].dt.hour"
   ]
  },
  {
   "cell_type": "code",
   "execution_count": null,
   "id": "58999eba",
   "metadata": {
    "scrolled": true
   },
   "outputs": [],
   "source": [
    "all_data.head()"
   ]
  },
  {
   "cell_type": "code",
   "execution_count": null,
   "id": "42332902",
   "metadata": {},
   "outputs": [],
   "source": [
    "all_data['bought_time'].nunique()"
   ]
  },
  {
   "cell_type": "code",
   "execution_count": null,
   "id": "3bde2d07",
   "metadata": {},
   "outputs": [],
   "source": [
    "bought_time_list=all_data['bought_time'].unique().tolist()\n",
    "bought_time_list.sort()"
   ]
  },
  {
   "cell_type": "code",
   "execution_count": null,
   "id": "c8582c7a",
   "metadata": {},
   "outputs": [],
   "source": [
    "groupby_time=all_data.groupby('bought_time')"
   ]
  },
  {
   "cell_type": "code",
   "execution_count": null,
   "id": "f3e6cbc6",
   "metadata": {},
   "outputs": [],
   "source": [
    "sales_perhour=[]\n",
    "for time in bought_time_list:\n",
    "    print('sales in this particular hour ' + str(time) + ' is '+ str(groupby_time.get_group(time)['sales'].sum()))\n",
    "    sales_perhour.append(groupby_time.get_group(time)['sales'].sum())"
   ]
  },
  {
   "cell_type": "code",
   "execution_count": null,
   "id": "d600c0df",
   "metadata": {},
   "outputs": [],
   "source": [
    "plt.bar(bought_time_list,sales_perhour)\n",
    "plt.xticks(rotation='vertical')\n",
    "plt.xlabel('time of buying product (hrs)')\n",
    "plt.ylabel('sales')\n",
    "plt.show()"
   ]
  },
  {
   "cell_type": "markdown",
   "id": "b1e79787",
   "metadata": {},
   "source": [
    "#### So the sales is maximum at two peaks around 12 noon and 7:00 PM in the evening. This means people are more active at this time, so we should advertise at this time."
   ]
  },
  {
   "cell_type": "markdown",
   "id": "0d42ce0f",
   "metadata": {},
   "source": [
    "# What product are most often sold together?"
   ]
  },
  {
   "cell_type": "code",
   "execution_count": null,
   "id": "ca75bb6e",
   "metadata": {},
   "outputs": [],
   "source": [
    "# lets check how many different product are there in product list\n",
    "all_data['Product'].nunique()"
   ]
  },
  {
   "cell_type": "code",
   "execution_count": null,
   "id": "747dc724",
   "metadata": {},
   "outputs": [],
   "source": [
    "# so there are 19 different product"
   ]
  },
  {
   "cell_type": "code",
   "execution_count": null,
   "id": "ea89c1a3",
   "metadata": {},
   "outputs": [],
   "source": [
    "# lets check which of them are sold together. to check this we know that the items sold together must have same order id"
   ]
  },
  {
   "cell_type": "code",
   "execution_count": null,
   "id": "c40ab4ac",
   "metadata": {},
   "outputs": [],
   "source": [
    "# we will find the duplicates order id \n",
    "df=all_data[all_data['Order ID'].duplicated(keep=False)]"
   ]
  },
  {
   "cell_type": "code",
   "execution_count": null,
   "id": "9892b06a",
   "metadata": {},
   "outputs": [],
   "source": [
    "df['grouped']=df.groupby('Order ID')['Product'].transform(lambda a:','.join(a))\n",
    "df.head()"
   ]
  },
  {
   "cell_type": "code",
   "execution_count": null,
   "id": "cc83bbcd",
   "metadata": {},
   "outputs": [],
   "source": [
    "df=df[['Order ID','grouped']]"
   ]
  },
  {
   "cell_type": "code",
   "execution_count": null,
   "id": "3202ebf3",
   "metadata": {
    "scrolled": true
   },
   "outputs": [],
   "source": [
    "df.head()"
   ]
  },
  {
   "cell_type": "code",
   "execution_count": null,
   "id": "8da068e4",
   "metadata": {},
   "outputs": [],
   "source": [
    "df.shape"
   ]
  },
  {
   "cell_type": "code",
   "execution_count": null,
   "id": "a7f4bcbe",
   "metadata": {
    "scrolled": true
   },
   "outputs": [],
   "source": [
    "df['grouped'].nunique()"
   ]
  },
  {
   "cell_type": "code",
   "execution_count": null,
   "id": "ccea2c82",
   "metadata": {},
   "outputs": [],
   "source": [
    "dic_of_highestsell=dict(df['grouped'].value_counts().head(8))"
   ]
  },
  {
   "cell_type": "code",
   "execution_count": null,
   "id": "d9d9bf86",
   "metadata": {},
   "outputs": [],
   "source": [
    "list_ofgrouped= list(dic_of_highestsell.keys())\n",
    "list_ofgrouped"
   ]
  },
  {
   "cell_type": "code",
   "execution_count": null,
   "id": "aea85939",
   "metadata": {},
   "outputs": [],
   "source": [
    "sell_ofgroup=list(dic_of_highestsell.values())\n",
    "sell_ofgroup"
   ]
  },
  {
   "cell_type": "code",
   "execution_count": null,
   "id": "eb269acf",
   "metadata": {},
   "outputs": [],
   "source": [
    "plt.bar(list_ofgrouped,sell_ofgroup)\n",
    "plt.xlabel('group of products')\n",
    "plt.ylabel('count of products')\n",
    "plt.xticks(rotation='vertical')\n",
    "plt.show()"
   ]
  },
  {
   "cell_type": "markdown",
   "id": "db6c5cdb",
   "metadata": {},
   "source": [
    "#### so most buying pair product is lightning charging cable, iphone and further so we can say that people are willing to buy these product together and we can give offers on these combo product."
   ]
  },
  {
   "cell_type": "markdown",
   "id": "589815c5",
   "metadata": {},
   "source": [
    "# what product sold the most?"
   ]
  },
  {
   "cell_type": "code",
   "execution_count": null,
   "id": "9bd4d93c",
   "metadata": {},
   "outputs": [],
   "source": [
    "#we can directly count the number of unique values\n",
    "# so total product are\n",
    "all_data['Product'].nunique()"
   ]
  },
  {
   "cell_type": "code",
   "execution_count": null,
   "id": "840abaf0",
   "metadata": {},
   "outputs": [],
   "source": [
    "dict_ofproduct=dict(all_data['Product'].value_counts().head(19))"
   ]
  },
  {
   "cell_type": "code",
   "execution_count": null,
   "id": "95a83be3",
   "metadata": {},
   "outputs": [],
   "source": [
    "list_ofproduct=list(dict_ofproduct.keys())"
   ]
  },
  {
   "cell_type": "code",
   "execution_count": null,
   "id": "58c945f2",
   "metadata": {},
   "outputs": [],
   "source": [
    "no_ofproducts=list(dict_ofproduct.values())"
   ]
  },
  {
   "cell_type": "code",
   "execution_count": null,
   "id": "1c46ed1b",
   "metadata": {},
   "outputs": [],
   "source": [
    "plt.bar(list_ofproduct,no_ofproducts)\n",
    "plt.xlabel('Products')\n",
    "plt.ylabel('quantity')\n",
    "plt.xticks(rotation='vertical')\n",
    "plt.show( )"
   ]
  },
  {
   "cell_type": "code",
   "execution_count": null,
   "id": "7cd1478e",
   "metadata": {},
   "outputs": [],
   "source": [
    "# lets draw a graph with two y axis 'Price' and 'quantity'"
   ]
  },
  {
   "cell_type": "code",
   "execution_count": null,
   "id": "edb721c3",
   "metadata": {},
   "outputs": [],
   "source": [
    "list_ofproduct"
   ]
  },
  {
   "cell_type": "code",
   "execution_count": null,
   "id": "692b5d44",
   "metadata": {},
   "outputs": [],
   "source": [
    "pricelist=[]\n",
    "for product in list_ofproduct:\n",
    "    price=all_data[all_data['Product']==product]['Price Each'].mean()\n",
    "    pricelist.append(price)"
   ]
  },
  {
   "cell_type": "code",
   "execution_count": null,
   "id": "68e2ef50",
   "metadata": {},
   "outputs": [],
   "source": [
    "pricelist"
   ]
  },
  {
   "cell_type": "code",
   "execution_count": null,
   "id": "fc314d92",
   "metadata": {},
   "outputs": [],
   "source": [
    "fig, ax1= plt.subplots()\n",
    "ax2=ax1.twinx()\n",
    "ax1.plot(list_ofproduct,pricelist)\n",
    "ax2.bar(list_ofproduct,no_ofproducts)\n",
    "ax1.set_xticklabels(list_ofproduct,rotation='vertical',size=10)\n",
    "plt.show()"
   ]
  },
  {
   "cell_type": "markdown",
   "id": "924f267f",
   "metadata": {},
   "source": [
    "## we can say that people are afraid to buy expensive product from online source and comfortable in buying lower price products online. may be they are interested in buying expensive products from offline market"
   ]
  }
 ],
 "metadata": {
  "kernelspec": {
   "display_name": "Python 3 (ipykernel)",
   "language": "python",
   "name": "python3"
  },
  "language_info": {
   "codemirror_mode": {
    "name": "ipython",
    "version": 3
   },
   "file_extension": ".py",
   "mimetype": "text/x-python",
   "name": "python",
   "nbconvert_exporter": "python",
   "pygments_lexer": "ipython3",
   "version": "3.9.7"
  }
 },
 "nbformat": 4,
 "nbformat_minor": 5
}
